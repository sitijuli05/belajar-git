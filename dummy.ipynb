{
  "cells": [
    {
      "cell_type": "markdown",
      "source": [
        "# **Belajar Git and GitHub**\n",
        "\n",
        "Just a dummy contribution"
      ],
      "metadata": {
        "id": "ijl-An_59pLq"
      }
    },
    {
      "cell_type": "code",
      "execution_count": null,
      "metadata": {
        "id": "lIYdn1woOS1n"
      },
      "outputs": [],
      "source": [
        "print(\"updating repo\")"
      ]
    }
  ],
  "metadata": {
    "colab": {
      "provenance": []
    },
    "kernelspec": {
      "display_name": "Python 3",
      "name": "python3"
    }
  },
  "nbformat": 4,
  "nbformat_minor": 0
}